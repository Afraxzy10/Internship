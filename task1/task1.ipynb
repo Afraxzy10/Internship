{
 "cells": [
  {
   "cell_type": "code",
   "execution_count": 2,
   "id": "e7d19709-9cad-47da-9ed7-96a18da342d0",
   "metadata": {},
   "outputs": [
    {
     "name": "stdout",
     "output_type": "stream",
     "text": [
      "Missing values per column:\n",
      " show_id            0\n",
      "type               0\n",
      "title              0\n",
      "director        2634\n",
      "cast             825\n",
      "country          831\n",
      "date_added        10\n",
      "release_year       0\n",
      "rating             4\n",
      "duration           3\n",
      "listed_in          0\n",
      "description        0\n",
      "dtype: int64\n",
      "Removed 0 duplicate rows.\n",
      "\n",
      "Summary of Cleaning:\n",
      "- Filled missing 'title' with 'Unknown'\n",
      "- Dropped rows with missing 'show_id'\n",
      "- Removed duplicate rows\n",
      "- Standardized text in 'type' and 'country' columns\n",
      "- Converted 'date_added' to datetime, 'release_year' to int\n",
      "- Renamed columns to lowercase with underscores\n",
      "- Saved cleaned data to 'netflix_cleaned.csv'\n"
     ]
    }
   ],
   "source": [
    "import pandas as pd\n",
    "\n",
    "# Load the dataset (update 'netflix.csv' to your actual file name/path)\n",
    "df = pd.read_csv('netflix_titles.csv')\n",
    "\n",
    "# 1. Handle missing values\n",
    "# Summary: Count missing values per column\n",
    "missing_summary = df.isnull().sum()\n",
    "print(\"Missing values per column:\\n\", missing_summary)\n",
    "\n",
    "# Fill or drop missing values as needed (example: drop rows with null 'title', fill others)\n",
    "df['title'] = df['title'].fillna('Unknown')\n",
    "df = df.dropna(subset=['show_id'])  # Ensure show_id is present\n",
    "\n",
    "# 2. Remove duplicate rows\n",
    "duplicates_count = df.duplicated().sum()\n",
    "df = df.drop_duplicates()\n",
    "print(f\"Removed {duplicates_count} duplicate rows.\")\n",
    "\n",
    "# 3. Standardize text values (example: gender, country names)\n",
    "# Lowercase country names and strip spaces\n",
    "if 'country' in df.columns:\n",
    "    df['country'] = df['country'].str.lower().str.strip()\n",
    "\n",
    "# Fix inconsistent 'type'\n",
    "df['type'] = df['type'].str.title().str.strip()\n",
    "\n",
    "# 4. Convert date formats ('date_added'), ensure 'release_year' is int\n",
    "df['date_added'] = pd.to_datetime(df['date_added'], errors='coerce', format='%B %d, %Y')  # Netflix format\n",
    "df['release_year'] = df['release_year'].fillna(0).astype(int)\n",
    "\n",
    "# 5. Rename columns (lowercase, replace spaces with _)\n",
    "df.columns = [col.lower().replace(' ', '_') for col in df.columns]\n",
    "\n",
    "# 6. Fix data types (example: duration as string for now)\n",
    "if 'duration' in df.columns:\n",
    "    df['duration'] = df['duration'].astype(str)\n",
    "\n",
    "# Save cleaned data to new file\n",
    "df.to_csv('netflix_cleaned.csv', index=False)\n",
    "\n",
    "# Short summary of changes:\n",
    "print(\"\\nSummary of Cleaning:\")\n",
    "print(\"- Filled missing 'title' with 'Unknown'\")\n",
    "print(\"- Dropped rows with missing 'show_id'\")\n",
    "print(\"- Removed duplicate rows\")\n",
    "print(\"- Standardized text in 'type' and 'country' columns\")\n",
    "print(\"- Converted 'date_added' to datetime, 'release_year' to int\")\n",
    "print(\"- Renamed columns to lowercase with underscores\")\n",
    "print(\"- Saved cleaned data to 'netflix_cleaned.csv'\")\n"
   ]
  },
  {
   "cell_type": "code",
   "execution_count": null,
   "id": "eb82bce2-8679-4370-920e-c1349373e751",
   "metadata": {},
   "outputs": [],
   "source": []
  }
 ],
 "metadata": {
  "kernelspec": {
   "display_name": "anaconda-ai-2024.04-py310",
   "language": "python",
   "name": "conda-env-anaconda-ai-2024.04-py310-py"
  },
  "language_info": {
   "codemirror_mode": {
    "name": "ipython",
    "version": 3
   },
   "file_extension": ".py",
   "mimetype": "text/x-python",
   "name": "python",
   "nbconvert_exporter": "python",
   "pygments_lexer": "ipython3",
   "version": "3.10.13"
  }
 },
 "nbformat": 4,
 "nbformat_minor": 5
}
